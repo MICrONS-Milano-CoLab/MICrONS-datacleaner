{
 "cells": [
  {
   "cell_type": "markdown",
   "metadata": {},
   "source": [
    "# Tutorial to use the MICrONS dataclear package\n",
    "\n",
    "The package allows to download and easily process data from the MICrONS mm3 dataset. This Notebook shows the typical workflow to obtain the data for the first time.\n",
    "\n",
    "The first step is to include all the relevant libraries to work."
   ]
  },
  {
   "cell_type": "code",
   "execution_count": 1,
   "metadata": {},
   "outputs": [],
   "source": [
    "#Cell magic for autoreloading files\n",
    "%reload_ext autoreload\n",
    "%autoreload 2\n",
    "\n",
    "#Import general packages\n",
    "import pandas as pd\n",
    "import matplotlib.pyplot as plt\n",
    "import numpy as np\n",
    "\n",
    "#Allows to detect the package\n",
    "import os\n",
    "\n",
    "#Import our package\n",
    "import microns_datacleaner as mic"
   ]
  },
  {
   "cell_type": "markdown",
   "metadata": {},
   "source": [
    "The package contains a class that includes all the necessary stuff. First, we have to initialize the class.\n",
    "Then, we can get the correct CAVEClient for it to start downloading. The data will be downloaded in the `datadir` argument of the class constructor. Please note that the path is relative to the place where the code is executed (i.e. where this notebook is located, or the folder where `python` is invoked)."
   ]
  },
  {
   "cell_type": "code",
   "execution_count": 7,
   "metadata": {},
   "outputs": [
    {
     "name": "stdout",
     "output_type": "stream",
     "text": [
      "['nucleus_detection_v0', 'aibs_metamodel_celltypes_v661', 'proofreading_status_and_strategy', 'nucleus_functional_area_assignment', 'coregistration_manual_v4']\n"
     ]
    }
   ],
   "source": [
    "cleaner = mic.MicronsDataCleaner(datadir = \"../data\", version=1300, custom_tables={\"func_props\":None})"
   ]
  },
  {
   "cell_type": "markdown",
   "metadata": {},
   "source": [
    "The client can be used from `cleaner.client` to use all the functionality of CAVEClient, if needed For example, one can see all the tables with "
   ]
  },
  {
   "cell_type": "code",
   "execution_count": 8,
   "metadata": {},
   "outputs": [
    {
     "data": {
      "text/plain": [
       "['baylor_gnn_cell_type_fine_model_v2',\n",
       " 'nucleus_alternative_points',\n",
       " 'allen_column_mtypes_v2',\n",
       " 'bodor_pt_cells',\n",
       " 'aibs_metamodel_mtypes_v661_v2',\n",
       " 'allen_v1_column_types_slanted_ref',\n",
       " 'aibs_column_nonneuronal_ref',\n",
       " 'nucleus_ref_neuron_svm',\n",
       " 'apl_functional_coreg_vess_fwd',\n",
       " 'vortex_compartment_targets',\n",
       " 'baylor_log_reg_cell_type_coarse_v1',\n",
       " 'functional_properties_v3_bcm',\n",
       " 'gamlin_2023_mcs',\n",
       " 'l5et_column',\n",
       " 'pt_synapse_targets',\n",
       " 'coregistration_manual_v4',\n",
       " 'cg_cell_type_calls',\n",
       " 'synapses_pni_2',\n",
       " 'nucleus_detection_v0',\n",
       " 'vortex_manual_nodes_of_ranvier',\n",
       " 'vortex_astrocyte_proofreading_status',\n",
       " 'bodor_pt_target_proofread',\n",
       " 'nucleus_functional_area_assignment',\n",
       " 'coregistration_auto_phase3_fwd_apl_vess_combined_v2',\n",
       " 'synapse_target_structure',\n",
       " 'coregistration_auto_phase3_fwd_v2',\n",
       " 'gamlin_2023_mcs_met_types',\n",
       " 'vortex_manual_myelination_v0',\n",
       " 'proofreading_status_and_strategy',\n",
       " 'synapse_target_predictions_ssa',\n",
       " 'aibs_metamodel_celltypes_v661']"
      ]
     },
     "execution_count": 8,
     "metadata": {},
     "output_type": "execute_result"
    }
   ],
   "source": [
    "cleaner.get_table_list()"
   ]
  },
  {
   "cell_type": "markdown",
   "metadata": {},
   "source": [
    "However, usually we will not need to manually call the client. The tables to be downloaded for each version are manually curated and can be automatically downloaded and processed. The processing (`process_nucleus_data`) connects all classifications and auxiliary tables to the nucleus reference, generating a unified unit table with all the useful information for modelling. The steps are\n",
    "\n",
    "1. The brain cell types and estimated brain area are linked to the nucleus reference.\n",
    "2. The proofreading status and functional properties (OSI and pref. orientation from MICrONS) are added.\n",
    "3. The coordinates are transformed to have pial distances in three separate columns. \n",
    "4. The y coordinate is discretized into 10 μm segments. Using the neuron classification from the first step, one can assign a layer to each segment. Finally, the layer boundaries are computed and returned. \n",
    "5. Duplicates and invalid `pt_root_id` are eliminated. \n",
    "\n",
    "The `process_nucleus_data` returns the table of units and the start and end of each layer. Please notice that no information about synapses has been yet processed."
   ]
  },
  {
   "cell_type": "code",
   "execution_count": 13,
   "metadata": {},
   "outputs": [
    {
     "name": "stdout",
     "output_type": "stream",
     "text": [
      "Index(['Unnamed: 0', 'id', 'created', 'superceded_id', 'valid',\n",
      "       'pt_position_x', 'pt_position_y', 'pt_position_z', 'valid_id',\n",
      "       'status_dendrite', 'status_axon', 'strategy_dendrite', 'strategy_axon',\n",
      "       'pt_supervoxel_id', 'pt_root_id'],\n",
      "      dtype='object')\n",
      "strategy_dendrite\n"
     ]
    },
    {
     "name": "stderr",
     "output_type": "stream",
     "text": [
      "Transform positions: 100%|██████████| 94014/94014 [00:00<00:00, 120970.27it/s]\n"
     ]
    }
   ],
   "source": [
    "#Download all data related to nucleus: reference table, various classifications, functional matchs\n",
    "#cleaner.download_nucleus_data()\n",
    "\n",
    "#Process the data and obtain units and segment tables\n",
    "units, segments = cleaner.process_nucleus_data()"
   ]
  },
  {
   "cell_type": "code",
   "execution_count": 14,
   "metadata": {},
   "outputs": [
    {
     "data": {
      "text/html": [
       "<div>\n",
       "<style scoped>\n",
       "    .dataframe tbody tr th:only-of-type {\n",
       "        vertical-align: middle;\n",
       "    }\n",
       "\n",
       "    .dataframe tbody tr th {\n",
       "        vertical-align: top;\n",
       "    }\n",
       "\n",
       "    .dataframe thead th {\n",
       "        text-align: right;\n",
       "    }\n",
       "</style>\n",
       "<table border=\"1\" class=\"dataframe\">\n",
       "  <thead>\n",
       "    <tr style=\"text-align: right;\">\n",
       "      <th></th>\n",
       "      <th>pt_root_id</th>\n",
       "      <th>id</th>\n",
       "      <th>pt_position_x</th>\n",
       "      <th>pt_position_y</th>\n",
       "      <th>pt_position_z</th>\n",
       "      <th>classification_system</th>\n",
       "      <th>cell_type</th>\n",
       "      <th>brain_area</th>\n",
       "      <th>strategy_dendrite</th>\n",
       "      <th>strategy_axon</th>\n",
       "      <th>layer</th>\n",
       "    </tr>\n",
       "  </thead>\n",
       "  <tbody>\n",
       "    <tr>\n",
       "      <th>0</th>\n",
       "      <td>864691136090135607</td>\n",
       "      <td>373879</td>\n",
       "      <td>828.189723</td>\n",
       "      <td>638.553801</td>\n",
       "      <td>783.72</td>\n",
       "      <td>excitatory_neuron</td>\n",
       "      <td>6P-CT</td>\n",
       "      <td>V1</td>\n",
       "      <td>none</td>\n",
       "      <td>none</td>\n",
       "      <td>L6</td>\n",
       "    </tr>\n",
       "    <tr>\n",
       "      <th>1</th>\n",
       "      <td>864691135194387242</td>\n",
       "      <td>408486</td>\n",
       "      <td>891.157407</td>\n",
       "      <td>662.693656</td>\n",
       "      <td>1002.96</td>\n",
       "      <td>nonneuron</td>\n",
       "      <td>oligo</td>\n",
       "      <td>V1</td>\n",
       "      <td>none</td>\n",
       "      <td>none</td>\n",
       "      <td>L6</td>\n",
       "    </tr>\n",
       "    <tr>\n",
       "      <th>4</th>\n",
       "      <td>864691136041571414</td>\n",
       "      <td>199883</td>\n",
       "      <td>514.440335</td>\n",
       "      <td>481.908658</td>\n",
       "      <td>1044.32</td>\n",
       "      <td>excitatory_neuron</td>\n",
       "      <td>5P-ET</td>\n",
       "      <td>V1</td>\n",
       "      <td>none</td>\n",
       "      <td>none</td>\n",
       "      <td>L5</td>\n",
       "    </tr>\n",
       "    <tr>\n",
       "      <th>6</th>\n",
       "      <td>864691135777840480</td>\n",
       "      <td>200523</td>\n",
       "      <td>513.635721</td>\n",
       "      <td>509.463386</td>\n",
       "      <td>652.56</td>\n",
       "      <td>excitatory_neuron</td>\n",
       "      <td>6P-CT</td>\n",
       "      <td>V1</td>\n",
       "      <td>none</td>\n",
       "      <td>none</td>\n",
       "      <td>L6</td>\n",
       "    </tr>\n",
       "    <tr>\n",
       "      <th>7</th>\n",
       "      <td>864691136273924109</td>\n",
       "      <td>372649</td>\n",
       "      <td>829.039163</td>\n",
       "      <td>557.615841</td>\n",
       "      <td>1039.92</td>\n",
       "      <td>excitatory_neuron</td>\n",
       "      <td>6P-IT</td>\n",
       "      <td>V1</td>\n",
       "      <td>none</td>\n",
       "      <td>none</td>\n",
       "      <td>L6</td>\n",
       "    </tr>\n",
       "    <tr>\n",
       "      <th>...</th>\n",
       "      <td>...</td>\n",
       "      <td>...</td>\n",
       "      <td>...</td>\n",
       "      <td>...</td>\n",
       "      <td>...</td>\n",
       "      <td>...</td>\n",
       "      <td>...</td>\n",
       "      <td>...</td>\n",
       "      <td>...</td>\n",
       "      <td>...</td>\n",
       "      <td>...</td>\n",
       "    </tr>\n",
       "    <tr>\n",
       "      <th>94009</th>\n",
       "      <td>864691135783968051</td>\n",
       "      <td>167679</td>\n",
       "      <td>427.922269</td>\n",
       "      <td>496.375161</td>\n",
       "      <td>1005.96</td>\n",
       "      <td>excitatory_neuron</td>\n",
       "      <td>5P-ET</td>\n",
       "      <td>V1</td>\n",
       "      <td>none</td>\n",
       "      <td>none</td>\n",
       "      <td>L5</td>\n",
       "    </tr>\n",
       "    <tr>\n",
       "      <th>94010</th>\n",
       "      <td>864691135940617126</td>\n",
       "      <td>303490</td>\n",
       "      <td>668.626983</td>\n",
       "      <td>461.348673</td>\n",
       "      <td>1003.64</td>\n",
       "      <td>excitatory_neuron</td>\n",
       "      <td>5P-ET</td>\n",
       "      <td>V1</td>\n",
       "      <td>none</td>\n",
       "      <td>none</td>\n",
       "      <td>L5</td>\n",
       "    </tr>\n",
       "    <tr>\n",
       "      <th>94011</th>\n",
       "      <td>864691135430122800</td>\n",
       "      <td>233088</td>\n",
       "      <td>533.829149</td>\n",
       "      <td>454.887682</td>\n",
       "      <td>1007.28</td>\n",
       "      <td>excitatory_neuron</td>\n",
       "      <td>5P-ET</td>\n",
       "      <td>V1</td>\n",
       "      <td>none</td>\n",
       "      <td>none</td>\n",
       "      <td>L5</td>\n",
       "    </tr>\n",
       "    <tr>\n",
       "      <th>94012</th>\n",
       "      <td>864691135884866160</td>\n",
       "      <td>232979</td>\n",
       "      <td>519.002564</td>\n",
       "      <td>451.791678</td>\n",
       "      <td>986.64</td>\n",
       "      <td>excitatory_neuron</td>\n",
       "      <td>5P-ET</td>\n",
       "      <td>V1</td>\n",
       "      <td>none</td>\n",
       "      <td>none</td>\n",
       "      <td>L5</td>\n",
       "    </tr>\n",
       "    <tr>\n",
       "      <th>94013</th>\n",
       "      <td>864691135489514810</td>\n",
       "      <td>267033</td>\n",
       "      <td>623.682204</td>\n",
       "      <td>487.482926</td>\n",
       "      <td>830.72</td>\n",
       "      <td>excitatory_neuron</td>\n",
       "      <td>5P-ET</td>\n",
       "      <td>V1</td>\n",
       "      <td>dendrite_extended</td>\n",
       "      <td>axon_fully_extended</td>\n",
       "      <td>L5</td>\n",
       "    </tr>\n",
       "  </tbody>\n",
       "</table>\n",
       "<p>90303 rows × 11 columns</p>\n",
       "</div>"
      ],
      "text/plain": [
       "               pt_root_id      id  pt_position_x  pt_position_y  \\\n",
       "0      864691136090135607  373879     828.189723     638.553801   \n",
       "1      864691135194387242  408486     891.157407     662.693656   \n",
       "4      864691136041571414  199883     514.440335     481.908658   \n",
       "6      864691135777840480  200523     513.635721     509.463386   \n",
       "7      864691136273924109  372649     829.039163     557.615841   \n",
       "...                   ...     ...            ...            ...   \n",
       "94009  864691135783968051  167679     427.922269     496.375161   \n",
       "94010  864691135940617126  303490     668.626983     461.348673   \n",
       "94011  864691135430122800  233088     533.829149     454.887682   \n",
       "94012  864691135884866160  232979     519.002564     451.791678   \n",
       "94013  864691135489514810  267033     623.682204     487.482926   \n",
       "\n",
       "       pt_position_z classification_system cell_type brain_area  \\\n",
       "0             783.72     excitatory_neuron     6P-CT         V1   \n",
       "1            1002.96             nonneuron     oligo         V1   \n",
       "4            1044.32     excitatory_neuron     5P-ET         V1   \n",
       "6             652.56     excitatory_neuron     6P-CT         V1   \n",
       "7            1039.92     excitatory_neuron     6P-IT         V1   \n",
       "...              ...                   ...       ...        ...   \n",
       "94009        1005.96     excitatory_neuron     5P-ET         V1   \n",
       "94010        1003.64     excitatory_neuron     5P-ET         V1   \n",
       "94011        1007.28     excitatory_neuron     5P-ET         V1   \n",
       "94012         986.64     excitatory_neuron     5P-ET         V1   \n",
       "94013         830.72     excitatory_neuron     5P-ET         V1   \n",
       "\n",
       "       strategy_dendrite        strategy_axon layer  \n",
       "0                   none                 none    L6  \n",
       "1                   none                 none    L6  \n",
       "4                   none                 none    L5  \n",
       "6                   none                 none    L6  \n",
       "7                   none                 none    L6  \n",
       "...                  ...                  ...   ...  \n",
       "94009               none                 none    L5  \n",
       "94010               none                 none    L5  \n",
       "94011               none                 none    L5  \n",
       "94012               none                 none    L5  \n",
       "94013  dendrite_extended  axon_fully_extended    L5  \n",
       "\n",
       "[90303 rows x 11 columns]"
      ]
     },
     "execution_count": 14,
     "metadata": {},
     "output_type": "execute_result"
    }
   ],
   "source": [
    "units"
   ]
  },
  {
   "cell_type": "code",
   "execution_count": 6,
   "metadata": {},
   "outputs": [
    {
     "data": {
      "text/html": [
       "<div>\n",
       "<style scoped>\n",
       "    .dataframe tbody tr th:only-of-type {\n",
       "        vertical-align: middle;\n",
       "    }\n",
       "\n",
       "    .dataframe tbody tr th {\n",
       "        vertical-align: top;\n",
       "    }\n",
       "\n",
       "    .dataframe thead th {\n",
       "        text-align: right;\n",
       "    }\n",
       "</style>\n",
       "<table border=\"1\" class=\"dataframe\">\n",
       "  <thead>\n",
       "    <tr style=\"text-align: right;\">\n",
       "      <th></th>\n",
       "      <th>layer</th>\n",
       "      <th>region_index</th>\n",
       "      <th>y_start</th>\n",
       "      <th>y_end</th>\n",
       "      <th>height</th>\n",
       "    </tr>\n",
       "  </thead>\n",
       "  <tbody>\n",
       "    <tr>\n",
       "      <th>0</th>\n",
       "      <td>L1</td>\n",
       "      <td>0</td>\n",
       "      <td>1.224539</td>\n",
       "      <td>70.981459</td>\n",
       "      <td>69.756920</td>\n",
       "    </tr>\n",
       "    <tr>\n",
       "      <th>1</th>\n",
       "      <td>L2/3</td>\n",
       "      <td>0</td>\n",
       "      <td>70.981459</td>\n",
       "      <td>250.356396</td>\n",
       "      <td>179.374937</td>\n",
       "    </tr>\n",
       "    <tr>\n",
       "      <th>2</th>\n",
       "      <td>L4</td>\n",
       "      <td>0</td>\n",
       "      <td>250.356396</td>\n",
       "      <td>359.974413</td>\n",
       "      <td>109.618017</td>\n",
       "    </tr>\n",
       "    <tr>\n",
       "      <th>3</th>\n",
       "      <td>L5</td>\n",
       "      <td>0</td>\n",
       "      <td>359.974413</td>\n",
       "      <td>509.453527</td>\n",
       "      <td>149.479114</td>\n",
       "    </tr>\n",
       "    <tr>\n",
       "      <th>4</th>\n",
       "      <td>L6</td>\n",
       "      <td>0</td>\n",
       "      <td>509.453527</td>\n",
       "      <td>828.342305</td>\n",
       "      <td>318.888777</td>\n",
       "    </tr>\n",
       "  </tbody>\n",
       "</table>\n",
       "</div>"
      ],
      "text/plain": [
       "  layer  region_index     y_start       y_end      height\n",
       "0    L1             0    1.224539   70.981459   69.756920\n",
       "1  L2/3             0   70.981459  250.356396  179.374937\n",
       "2    L4             0  250.356396  359.974413  109.618017\n",
       "3    L5             0  359.974413  509.453527  149.479114\n",
       "4    L6             0  509.453527  828.342305  318.888777"
      ]
     },
     "execution_count": 6,
     "metadata": {},
     "output_type": "execute_result"
    }
   ],
   "source": [
    "segments"
   ]
  },
  {
   "cell_type": "markdown",
   "metadata": {},
   "source": [
    "The next step is to download the synapses. Again, this operation is automated by the library. Downloading the whole dataset of synapses is very long. Thus, one can download synapses from a subset of pre- and post- neurons. \n",
    "\n",
    "As an example here, we will sample 120 random units and ask to download all potential presynaptic connections to those"
   ]
  },
  {
   "cell_type": "code",
   "execution_count": 9,
   "metadata": {},
   "outputs": [],
   "source": [
    "postids = units['pt_root_id'].sample(n=120)\n",
    "preids  = units['pt_root_id']"
   ]
  },
  {
   "cell_type": "markdown",
   "metadata": {},
   "source": [
    "Now the download happens. Queries **to the API can be slow and need to retry.** To minimize problems, the downloader will try to download small chunks of `neur_per_steps=500` neurons to facilitate the task. If the downloader finds a problem and stops, it will automatically retry after `delay=5` seconds for `max_retries=10` times. \n",
    "\n",
    "You can select also if you want all synapses between neurons or just an effective synaptic volume between a pair of neurons. In the first case (`drop_synapses_duplicates=False`), you will download all individual synapses between the two neurons, their positions in space and synaptic volume; in the second one, (`drop_synapses_duplicates=True`, the default) you will get the sum of all synaptic volumes accross all synapses between those neurons. \n",
    "\n",
    "**Caution! The code below can be slow!**"
   ]
  },
  {
   "cell_type": "code",
   "execution_count": 23,
   "metadata": {},
   "outputs": [
    {
     "name": "stdout",
     "output_type": "stream",
     "text": [
      "Postsynaptic neurons queried so far: 0...\n"
     ]
    },
    {
     "name": "stdout",
     "output_type": "stream",
     "text": [
      "Estimated remaining time: 0s\n"
     ]
    }
   ],
   "source": [
    "cleaner.download_synapse_data(preids, postids)"
   ]
  },
  {
   "cell_type": "markdown",
   "metadata": {},
   "source": [
    "If the process fails for any reason (download trials exceeded, internet connection lost...) one can check how many chunks were downloaded inside the folder `data/raw/synapses/`. Look at the last `connections_table_X`. Then, you can call `cleaner.download_synapse_data(preids, postids, start_index=X-1)` to start the downloaded right where you left it.\n",
    "\n",
    "Once the function above is successful, all the downloaded chunks can be merged into a single synapse table with"
   ]
  },
  {
   "cell_type": "code",
   "execution_count": 24,
   "metadata": {},
   "outputs": [
    {
     "name": "stdout",
     "output_type": "stream",
     "text": [
      "Merged 1 tables into /home/victor/Fisica/Research/Milan/MICrONS-datacleaner/tutorial/../data/1300/raw/example_merged_synapses.csv\n"
     ]
    }
   ],
   "source": [
    "cleaner.merge_synapses(syn_table_name=\"example_merged_synapses\", )"
   ]
  },
  {
   "cell_type": "code",
   "execution_count": 25,
   "metadata": {},
   "outputs": [
    {
     "data": {
      "text/html": [
       "<div>\n",
       "<style scoped>\n",
       "    .dataframe tbody tr th:only-of-type {\n",
       "        vertical-align: middle;\n",
       "    }\n",
       "\n",
       "    .dataframe tbody tr th {\n",
       "        vertical-align: top;\n",
       "    }\n",
       "\n",
       "    .dataframe thead th {\n",
       "        text-align: right;\n",
       "    }\n",
       "</style>\n",
       "<table border=\"1\" class=\"dataframe\">\n",
       "  <thead>\n",
       "    <tr style=\"text-align: right;\">\n",
       "      <th></th>\n",
       "      <th>Unnamed: 0</th>\n",
       "      <th>pre_pt_root_id</th>\n",
       "      <th>post_pt_root_id</th>\n",
       "      <th>size</th>\n",
       "    </tr>\n",
       "  </thead>\n",
       "  <tbody>\n",
       "    <tr>\n",
       "      <th>0</th>\n",
       "      <td>0</td>\n",
       "      <td>864691134884743674</td>\n",
       "      <td>864691135952861219</td>\n",
       "      <td>1292</td>\n",
       "    </tr>\n",
       "    <tr>\n",
       "      <th>1</th>\n",
       "      <td>1</td>\n",
       "      <td>864691134884749306</td>\n",
       "      <td>864691135347037599</td>\n",
       "      <td>884</td>\n",
       "    </tr>\n",
       "    <tr>\n",
       "      <th>2</th>\n",
       "      <td>2</td>\n",
       "      <td>864691134884762106</td>\n",
       "      <td>864691135275949029</td>\n",
       "      <td>16620</td>\n",
       "    </tr>\n",
       "    <tr>\n",
       "      <th>3</th>\n",
       "      <td>3</td>\n",
       "      <td>864691134884807418</td>\n",
       "      <td>864691135661074928</td>\n",
       "      <td>5140</td>\n",
       "    </tr>\n",
       "    <tr>\n",
       "      <th>4</th>\n",
       "      <td>4</td>\n",
       "      <td>864691134884855290</td>\n",
       "      <td>864691135784120883</td>\n",
       "      <td>760</td>\n",
       "    </tr>\n",
       "    <tr>\n",
       "      <th>...</th>\n",
       "      <td>...</td>\n",
       "      <td>...</td>\n",
       "      <td>...</td>\n",
       "      <td>...</td>\n",
       "    </tr>\n",
       "    <tr>\n",
       "      <th>14069</th>\n",
       "      <td>14069</td>\n",
       "      <td>864691137198939713</td>\n",
       "      <td>864691135645073391</td>\n",
       "      <td>1056</td>\n",
       "    </tr>\n",
       "    <tr>\n",
       "      <th>14070</th>\n",
       "      <td>14070</td>\n",
       "      <td>864691137198988097</td>\n",
       "      <td>864691135275477477</td>\n",
       "      <td>4764</td>\n",
       "    </tr>\n",
       "    <tr>\n",
       "      <th>14071</th>\n",
       "      <td>14071</td>\n",
       "      <td>864691137199116097</td>\n",
       "      <td>864691135492906591</td>\n",
       "      <td>3548</td>\n",
       "    </tr>\n",
       "    <tr>\n",
       "      <th>14072</th>\n",
       "      <td>14072</td>\n",
       "      <td>864691137199116097</td>\n",
       "      <td>864691136057941464</td>\n",
       "      <td>5628</td>\n",
       "    </tr>\n",
       "    <tr>\n",
       "      <th>14073</th>\n",
       "      <td>14073</td>\n",
       "      <td>864691137199116097</td>\n",
       "      <td>864691136595289250</td>\n",
       "      <td>3652</td>\n",
       "    </tr>\n",
       "  </tbody>\n",
       "</table>\n",
       "<p>14074 rows × 4 columns</p>\n",
       "</div>"
      ],
      "text/plain": [
       "       Unnamed: 0      pre_pt_root_id     post_pt_root_id   size\n",
       "0               0  864691134884743674  864691135952861219   1292\n",
       "1               1  864691134884749306  864691135347037599    884\n",
       "2               2  864691134884762106  864691135275949029  16620\n",
       "3               3  864691134884807418  864691135661074928   5140\n",
       "4               4  864691134884855290  864691135784120883    760\n",
       "...           ...                 ...                 ...    ...\n",
       "14069       14069  864691137198939713  864691135645073391   1056\n",
       "14070       14070  864691137198988097  864691135275477477   4764\n",
       "14071       14071  864691137199116097  864691135492906591   3548\n",
       "14072       14072  864691137199116097  864691136057941464   5628\n",
       "14073       14073  864691137199116097  864691136595289250   3652\n",
       "\n",
       "[14074 rows x 4 columns]"
      ]
     },
     "execution_count": 25,
     "metadata": {},
     "output_type": "execute_result"
    }
   ],
   "source": [
    "synapses = pd.read_csv(\"../data/1300/raw/example_merged_synapses.csv\")\n",
    "synapses"
   ]
  },
  {
   "cell_type": "markdown",
   "metadata": {},
   "source": [
    "Now you are ready to start analysing your data!"
   ]
  },
  {
   "cell_type": "markdown",
   "metadata": {},
   "source": []
  }
 ],
 "metadata": {
  "kernelspec": {
   "display_name": "microns",
   "language": "python",
   "name": "python3"
  },
  "language_info": {
   "codemirror_mode": {
    "name": "ipython",
    "version": 3
   },
   "file_extension": ".py",
   "mimetype": "text/x-python",
   "name": "python",
   "nbconvert_exporter": "python",
   "pygments_lexer": "ipython3",
   "version": "3.11.9"
  }
 },
 "nbformat": 4,
 "nbformat_minor": 2
}
